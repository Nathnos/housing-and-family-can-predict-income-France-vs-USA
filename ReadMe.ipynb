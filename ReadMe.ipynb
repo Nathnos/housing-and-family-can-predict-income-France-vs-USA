{
 "cells": [
  {
   "cell_type": "markdown",
   "metadata": {},
   "source": [
    "# Get the data\n",
    "Data for France is quite simple to get, as there is in only one zip file to download, and three csv files in total. But it was a bit hard for the USA data, since there is one file per state.\n",
    "\n",
    "I found the FTP of the Census Bureau (where I get my data from), and I downloaded the files I wanted with wget :\n",
    ">wget -r -nd -A \"csv_hc*.zip\" -P raw_data/USA ftp://ftp2.census.gov/programs-surveys/acs/data/pums/2015/1-Year/\n",
    "\n",
    "I then unziped all the files and removed the .pdf information files to keep only the csv files.\n",
    ">cd raw_data/USA<br/>\n",
    ">unzip -n \"*.zip\" && rm *.{zip,pdf}"
   ]
  },
  {
   "cell_type": "markdown",
   "metadata": {},
   "source": [
    "# Convert the data\n",
    "Let's now merge CSV files into a unique feather file. Since we have too much USA data for what is needed, I decided to remove the 10 larger files, in order to make sure not to overload RAM.\n",
    ">du -a raw_data/USA/ | sort -n -r | tail -n +2 | head -n 10 | cut -d $'\\t' -f2 | xargs rm"
   ]
  },
  {
   "cell_type": "code",
   "execution_count": 1,
   "metadata": {},
   "outputs": [],
   "source": [
    "import os\n",
    "import gc\n",
    "import pandas as pd\n",
    "\n",
    "#France :\n",
    "fr_dataframes = []\n",
    "for file in os.listdir(\"raw_data/France\"):\n",
    "    fr_dataframes.append(pd.read_csv(\"raw_data/France/\" + file))\n",
    "pd.concat(fr_dataframes).reset_index().to_feather(\"raw_data/fr_data.feather\") #Save to feather format\n",
    "gc.collect() #To avoid overloading memory\n",
    "\n",
    "#USA :\n",
    "us_dataframes = []\n",
    "for file in os.listdir(\"raw_data/USA\"):\n",
    "    us_dataframes.append(pd.read_csv(\"raw_data/USA/\" + file))\n",
    "pd.concat(us_dataframes).reset_index().to_feather(\"raw_data/us_data.feather\")"
   ]
  },
  {
   "cell_type": "markdown",
   "metadata": {},
   "source": [
    "# Choosing variables\n",
    "…"
   ]
  }
 ],
 "metadata": {
  "kernelspec": {
   "display_name": "Python 3",
   "language": "python",
   "name": "python3"
  },
  "language_info": {
   "codemirror_mode": {
    "name": "ipython",
    "version": 3
   },
   "file_extension": ".py",
   "mimetype": "text/x-python",
   "name": "python",
   "nbconvert_exporter": "python",
   "pygments_lexer": "ipython3",
   "version": "3.8.2"
  }
 },
 "nbformat": 4,
 "nbformat_minor": 4
}